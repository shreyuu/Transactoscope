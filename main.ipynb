{
 "cells": [
  {
   "cell_type": "code",
   "execution_count": 2,
   "id": "b6a0480f",
   "metadata": {},
   "outputs": [
    {
     "name": "stdout",
     "output_type": "stream",
     "text": [
      "Requirement already satisfied: pymupdf in /Users/shreyuu/miniconda3/envs/ml/lib/python3.10/site-packages (1.26.4)\n",
      "Note: you may need to restart the kernel to use updated packages.\n"
     ]
    }
   ],
   "source": [
    "%pip install --upgrade pymupdf"
   ]
  },
  {
   "cell_type": "code",
   "execution_count": 3,
   "id": "f12f4610",
   "metadata": {},
   "outputs": [],
   "source": [
    "import fitz  # PyMuPDF\n",
    "doc = fitz.open(\"ignore/hdfc_statement.pdf\")\n",
    "text = \"\"\n",
    "for page in doc: \n",
    "    text += page.get_text()"
   ]
  },
  {
   "cell_type": "code",
   "execution_count": 5,
   "id": "e6b89b8b",
   "metadata": {},
   "outputs": [],
   "source": [
    "import re\n",
    "\n",
    "lines = text.splitlines()\n",
    "txns = []\n",
    "for i, line in enumerate(lines):\n",
    "    if re.match(r'^\\d{2}/\\d{2}/\\d{2}', line):\n",
    "        # start of a transaction\n",
    "        # Extract pieces assuming fixed columns (parsed manually or via substring)\n",
    "        date = line[0:8].strip()\n",
    "        val_date = line[40:48].strip()\n",
    "        withdrawal = line[49:58].strip().replace(',', '')\n",
    "        deposit = line[59:68].strip().replace(',', '')\n",
    "        closing = line[69:].strip().replace(',', '')\n",
    "        narration = \"\"  # accumulate narration parts from this and following lines\n",
    "        # gather narration lines below the date line\n",
    "        j = i+1\n",
    "        while j < len(lines) and not re.match(r'^\\d{2}/\\d{2}/\\d{2}', lines[j]):\n",
    "            narration += \" \" + lines[j].strip()\n",
    "            j += 1\n",
    "        txns.append({\n",
    "            \"Date\": date, \"ValueDate\": val_date,\n",
    "            \"Withdrawal\": withdrawal or \"0\",\n",
    "            \"Deposit\": deposit or \"0\",\n",
    "            \"ClosingBalance\": closing,\n",
    "            \"Narration\": narration.strip()\n",
    "        })"
   ]
  },
  {
   "cell_type": "code",
   "execution_count": 7,
   "id": "e20f5b9d",
   "metadata": {},
   "outputs": [],
   "source": [
    "import pandas as pd\n",
    "df = pd.DataFrame(txns)\n",
    "df['Date'] = pd.to_datetime(df['Date'], format='%d/%m/%y')\n",
    "# df['ValueDate'] = pd.to_datetime(df['ValueDate'], format='%d/%m/%y')\n",
    "df['ValueDate'] = pd.to_datetime(df['ValueDate'], format='%d/%m/%y', errors='coerce')\n",
    "df['Withdrawal'] = pd.to_numeric(df['Withdrawal'], errors='coerce').fillna(0)\n",
    "df['Deposit'] = pd.to_numeric(df.get('Deposit','0'), errors='coerce').fillna(0)\n",
    "df['ClosingBalance'] = pd.to_numeric(df['ClosingBalance'], errors='coerce')"
   ]
  },
  {
   "cell_type": "code",
   "execution_count": 10,
   "id": "5828d0d2",
   "metadata": {},
   "outputs": [
    {
     "name": "stdout",
     "output_type": "stream",
     "text": [
      "0\n"
     ]
    }
   ],
   "source": [
    "# Check for missing values\n",
    "print(df['ValueDate'].isna().sum())\n",
    "\n",
    "# Option 1: Forward-fill missing dates\n",
    "df['ValueDate'].fillna(method='ffill', inplace=True)\n",
    "\n",
    "# Option 2: Drop rows with missing dates\n",
    "df.dropna(subset=['ValueDate'], inplace=True)"
   ]
  },
  {
   "cell_type": "code",
   "execution_count": 11,
   "id": "cc959749",
   "metadata": {},
   "outputs": [],
   "source": [
    "df['ValueDate'] = pd.to_datetime(df['ValueDate'], format='%m/%d/%y', errors='coerce')"
   ]
  },
  {
   "cell_type": "code",
   "execution_count": 21,
   "id": "e2fac1fc",
   "metadata": {},
   "outputs": [],
   "source": [
    "# df['ValueDate'] = df['ValueDate'].str.strip()\n",
    "df['ValueDate'] = pd.to_datetime(df['ValueDate'], format='%d/%m/%y', errors='coerce')"
   ]
  },
  {
   "cell_type": "code",
   "execution_count": 22,
   "id": "2c0aac53",
   "metadata": {},
   "outputs": [],
   "source": [
    "df['ValueDate'] = df['ValueDate'].fillna(method='ffill')  # forward fill, for example"
   ]
  },
  {
   "cell_type": "code",
   "execution_count": 23,
   "id": "c6441855",
   "metadata": {},
   "outputs": [],
   "source": [
    "df['ValueDate'] = pd.to_datetime(df['ValueDate'], format='%d/%m/%y', errors='coerce')"
   ]
  },
  {
   "cell_type": "code",
   "execution_count": 25,
   "id": "f245e4a0",
   "metadata": {},
   "outputs": [],
   "source": [
    "CATEGORIES = {\n",
    "    \"Food\": [\"ZOMATO\", \"BHATS MILK\", \"SWEET\", \"CATERING\"],\n",
    "    \"Fuel\": [\"PETROL\", \"PETROLEUM\"],\n",
    "    \"Shopping\": [\"MARKETPLACE\", \"SHOP\", \"LAUNDRY\"],\n",
    "    \"Bills\": [\"INSURANCE\", \"RENT\", \"BILLS\"],\n",
    "    # etc.\n",
    "}"
   ]
  },
  {
   "cell_type": "code",
   "execution_count": 26,
   "id": "033114cf",
   "metadata": {},
   "outputs": [],
   "source": [
    "df['Category'] = \"Misc\"\n",
    "for cat, keywords in CATEGORIES.items():\n",
    "    pattern = \"|\".join([re.escape(k) for k in keywords])\n",
    "    df.loc[df['Narration'].str.contains(pattern, case=False, na=False), 'Category'] = cat"
   ]
  },
  {
   "cell_type": "code",
   "execution_count": 27,
   "id": "4cf8a73c",
   "metadata": {},
   "outputs": [],
   "source": [
    "daily = df.groupby('Date').agg(TotalDebit=('Withdrawal','sum'),\n",
    "                               TotalCredit=('Deposit','sum'),\n",
    "                               Count=('Date','size')).reset_index()"
   ]
  },
  {
   "cell_type": "code",
   "execution_count": 50,
   "id": "0a27ae0d",
   "metadata": {},
   "outputs": [],
   "source": [
    "# Example: compute ending balance per day\n",
    "df_sorted = df.sort_values('Date')\n",
    "balance_by_day = df_sorted.groupby('Date').last()['ClosingBalance']\n",
    "idx = pd.date_range(balance_by_day.index.min(), balance_by_day.index.max(), freq='D')\n",
    "balance_daily = balance_by_day.reindex(idx).ffill()"
   ]
  },
  {
   "cell_type": "code",
   "execution_count": 39,
   "id": "192c531c",
   "metadata": {},
   "outputs": [
    {
     "name": "stdout",
     "output_type": "stream",
     "text": [
      "Extracted 51 transactions\n",
      "[{'Date': '02/09/25', 'Narration': 'UPI-ZEPTO MARKETPLACE PR-ZEPTOMARKETPLAC 0000110697582430', 'Withdrawal': '0', 'Deposit': '0', 'ClosingBalance': '0'}, {'Date': '02/09/25', 'Narration': '258.79 24,326.08 895229.RZP@RXAIRTEL-AIRP0000011-11069758 2430-ROOM FRESHNER', 'Withdrawal': '258.79', 'Deposit': '24326.08', 'ClosingBalance': '0'}, {'Date': '03/09/25', 'Narration': 'UPI-BHATS MILK AND MILK -PAYTMQR6BYKTD@P 0000110710453744', 'Withdrawal': '0', 'Deposit': '0', 'ClosingBalance': '0'}]\n"
     ]
    }
   ],
   "source": [
    "import re\n",
    "\n",
    "date_pattern = re.compile(r'\\d{2}/\\d{2}/\\d{2,4}')  # date pattern (dd/mm/yy or dd/mm/yyyy)\n",
    "\n",
    "txns = []\n",
    "i = 0\n",
    "while i < len(lines):\n",
    "    if date_pattern.search(lines[i]):\n",
    "        # Extract date from the current line\n",
    "        date_match = date_pattern.search(lines[i])\n",
    "        date = date_match.group()\n",
    "        \n",
    "        # Collect narration and amount lines until next date line\n",
    "        narration_lines = []\n",
    "        j = i + 1\n",
    "        while j < len(lines) and not date_pattern.search(lines[j]):\n",
    "            narration_lines.append(lines[j].strip())\n",
    "            j += 1\n",
    "        \n",
    "        narration_text = \" \".join(narration_lines)\n",
    "        \n",
    "        # Extract amounts from narration_text (numbers with commas and decimals)\n",
    "        amounts = re.findall(r'[\\d,]+\\.\\d{2}', narration_text)\n",
    "        # Normalize amounts (remove commas)\n",
    "        amounts = [amt.replace(',', '') for amt in amounts]\n",
    "        \n",
    "        # Assign amounts intelligently:\n",
    "        # Heuristic: Usually Withdrawal, Deposit, Closing Balance appear in that order\n",
    "        withdrawal = deposit = closing = '0'\n",
    "        if len(amounts) == 3:\n",
    "            withdrawal, deposit, closing = amounts\n",
    "        elif len(amounts) == 2:\n",
    "            withdrawal, deposit = amounts\n",
    "        elif len(amounts) == 1:\n",
    "            withdrawal = amounts[0]\n",
    "        \n",
    "        txns.append({\n",
    "            \"Date\": date,\n",
    "            \"Narration\": narration_text,\n",
    "            \"Withdrawal\": withdrawal,\n",
    "            \"Deposit\": deposit,\n",
    "            \"ClosingBalance\": closing\n",
    "        })\n",
    "        \n",
    "        i = j\n",
    "    else:\n",
    "        i += 1\n",
    "\n",
    "print(f\"Extracted {len(txns)} transactions\")\n",
    "print(txns[:3])  # sample output\n"
   ]
  },
  {
   "cell_type": "code",
   "execution_count": 40,
   "id": "4c48fea2",
   "metadata": {},
   "outputs": [
    {
     "name": "stdout",
     "output_type": "stream",
     "text": [
      "        Date                                          Narration  Withdrawal  \\\n",
      "0 2025-09-02  UPI-ZEPTO MARKETPLACE PR-ZEPTOMARKETPLAC 00001...        0.00   \n",
      "1 2025-09-02  258.79 24,326.08 895229.RZP@RXAIRTEL-AIRP00000...      258.79   \n",
      "2 2025-09-03  UPI-BHATS MILK AND MILK -PAYTMQR6BYKTD@P 00001...        0.00   \n",
      "3 2025-09-03  55.00 24,271.08 TYS-YESB0PTMUPI-110710453744-C...       55.00   \n",
      "4 2025-09-03  UPI-ITSY BITSYYEOLEKAR M-Q15560839@YBL-Y 00001...        0.00   \n",
      "\n",
      "    Deposit  ClosingBalance  \n",
      "0      0.00               0  \n",
      "1  24326.08               0  \n",
      "2      0.00               0  \n",
      "3  24271.08               0  \n",
      "4      0.00               0  \n"
     ]
    }
   ],
   "source": [
    "import pandas as pd\n",
    "\n",
    "df = pd.DataFrame(txns)\n",
    "df['Date'] = pd.to_datetime(df['Date'], format='%d/%m/%y', errors='coerce')\n",
    "df['Withdrawal'] = pd.to_numeric(df['Withdrawal'], errors='coerce').fillna(0)\n",
    "df['Deposit'] = pd.to_numeric(df['Deposit'], errors='coerce').fillna(0)\n",
    "df['ClosingBalance'] = pd.to_numeric(df['ClosingBalance'], errors='coerce').fillna(0)\n",
    "\n",
    "print(df.head())\n"
   ]
  },
  {
   "cell_type": "code",
   "execution_count": null,
   "id": "8257c7a6",
   "metadata": {},
   "outputs": [],
   "source": []
  },
  {
   "cell_type": "code",
   "execution_count": 41,
   "id": "d2b4f502",
   "metadata": {},
   "outputs": [],
   "source": [
    "df['Category'] = \"Misc\"\n",
    "for cat, keywords in CATEGORIES.items():\n",
    "    pattern = \"|\".join([re.escape(k) for k in keywords])\n",
    "    df.loc[df['Narration'].str.contains(pattern, case=False, na=False), 'Category'] = cat"
   ]
  },
  {
   "cell_type": "code",
   "execution_count": 42,
   "id": "17b5ef79",
   "metadata": {},
   "outputs": [],
   "source": [
    "daily = df.groupby('Date').agg(TotalDebit=('Withdrawal','sum'),\n",
    "                               TotalCredit=('Deposit','sum'),\n",
    "                               Count=('Date','size')).reset_index()"
   ]
  },
  {
   "cell_type": "code",
   "execution_count": 43,
   "id": "f0ac3bc1",
   "metadata": {},
   "outputs": [],
   "source": [
    "# Example: compute ending balance per day\n",
    "df_sorted = df.sort_values('Date')\n",
    "balance_by_day = df_sorted.groupby('Date').last()['ClosingBalance']\n",
    "idx = pd.date_range(balance_by_day.index.min(), balance_by_day.index.max(), freq='D')\n",
    "balance_daily = balance_by_day.reindex(idx).ffill()"
   ]
  },
  {
   "cell_type": "code",
   "execution_count": 44,
   "id": "499e0727",
   "metadata": {},
   "outputs": [],
   "source": [
    "total_debits = df['Withdrawal'].sum()\n",
    "total_credits = df['Deposit'].sum()"
   ]
  },
  {
   "cell_type": "code",
   "execution_count": 45,
   "id": "f16f9e0d",
   "metadata": {},
   "outputs": [],
   "source": [
    "highest_tx = df.loc[df['Withdrawal'].idxmax()]\n",
    "lowest_tx = df.loc[df['Withdrawal'].idxmin()]"
   ]
  },
  {
   "cell_type": "code",
   "execution_count": 46,
   "id": "6476d498",
   "metadata": {},
   "outputs": [],
   "source": [
    "avg_daily_spend = df.groupby('Date')['Withdrawal'].sum().mean()\n",
    "total_spend = df['Withdrawal'].sum()\n",
    "top_merchants = df['Narration'].str.extract(r'([A-Z ]{3,})')[0]  # crude extract of merchant name part\n",
    "top_merchants = top_merchants.value_counts().head(5)"
   ]
  },
  {
   "cell_type": "code",
   "execution_count": 47,
   "id": "89a6aa73",
   "metadata": {},
   "outputs": [
    {
     "data": {
      "image/png": "[encoded data removed]",
      "text/plain": [
       "<Figure size 800x400 with 1 Axes>"
      ]
     },
     "metadata": {},
     "output_type": "display_data"
    }
   ],
   "source": [
    "import matplotlib.pyplot as plt\n",
    "plt.figure(figsize=(8,4))\n",
    "plt.plot(balance_daily.index, balance_daily.values, marker='o')\n",
    "plt.title(\"Daily Ending Balance Trend\")\n",
    "plt.xlabel(\"Date\"); plt.ylabel(\"Balance (INR)\")\n",
    "plt.grid(True)"
   ]
  },
  {
   "cell_type": "code",
   "execution_count": 48,
   "id": "ee30de11",
   "metadata": {},
   "outputs": [
    {
     "data": {
      "text/plain": [
       "Text(0.5, 1.0, 'Spending by Category')"
      ]
     },
     "execution_count": 48,
     "metadata": {},
     "output_type": "execute_result"
    },
    {
     "data": {
      "image/png": "[encoded data removed]",
      "text/plain": [
       "<Figure size 640x480 with 1 Axes>"
      ]
     },
     "metadata": {},
     "output_type": "display_data"
    }
   ],
   "source": [
    "category_sums = df.groupby('Category')['Withdrawal'].sum()\n",
    "fig, ax = plt.subplots()\n",
    "ax.pie(category_sums.values, labels=category_sums.index, autopct='%1.1f%%')\n",
    "ax.set_title(\"Spending by Category\")"
   ]
  },
  {
   "cell_type": "code",
   "execution_count": 49,
   "id": "a70f2431",
   "metadata": {},
   "outputs": [
    {
     "data": {
      "image/png": "[encoded data removed]",
      "text/plain": [
       "<Figure size 640x480 with 1 Axes>"
      ]
     },
     "metadata": {},
     "output_type": "display_data"
    }
   ],
   "source": [
    "category_sums.plot(kind='bar', title=\"Total Spent by Category\")\n",
    "plt.xlabel(\"Category\"); plt.ylabel(\"Amount (INR)\");"
   ]
  }
 ],
 "metadata": {
  "kernelspec": {
   "display_name": "ml",
   "language": "python",
   "name": "python3"
  },
  "language_info": {
   "codemirror_mode": {
    "name": "ipython",
    "version": 3
   },
   "file_extension": ".py",
   "mimetype": "text/x-python",
   "name": "python",
   "nbconvert_exporter": "python",
   "pygments_lexer": "ipython3",
   "version": "3.10.10"
  }
 },
 "nbformat": 4,
 "nbformat_minor": 5
}
